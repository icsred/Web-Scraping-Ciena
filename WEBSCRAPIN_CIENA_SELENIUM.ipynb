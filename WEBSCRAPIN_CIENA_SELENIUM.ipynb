{
  "nbformat": 4,
  "nbformat_minor": 0,
  "metadata": {
    "colab": {
      "name": "WEBSCRAPIN  CIENA SELENIUM.ipynb",
      "provenance": [],
      "collapsed_sections": [],
      "authorship_tag": "ABX9TyNeo9lz8dlM8cIiwMcDks9I",
      "include_colab_link": true
    },
    "kernelspec": {
      "name": "python3",
      "display_name": "Python 3"
    },
    "language_info": {
      "name": "python"
    }
  },
  "cells": [
    {
      "cell_type": "markdown",
      "metadata": {
        "id": "view-in-github",
        "colab_type": "text"
      },
      "source": [
        "<a href=\"https://colab.research.google.com/github/icsred/Web-Scraping-Ciena/blob/main/WEBSCRAPIN_CIENA_SELENIUM.ipynb\" target=\"_parent\"><img src=\"https://colab.research.google.com/assets/colab-badge.svg\" alt=\"Open In Colab\"/></a>"
      ]
    },
    {
      "cell_type": "code",
      "metadata": {
        "id": "b0_mJBczSXFt"
      },
      "source": [
        "!pip install selenium\n",
        "import pandas\n",
        "import time\n",
        "from selenium import webdriver\n",
        "from selenium.webdriver.common.by import By\n",
        "from selenium.webdriver.support.ui import WebDriverWait\n",
        "from selenium.webdriver.support import expected_conditions as ec\n",
        "\n",
        "user = \"marcelozapata@icsred.com\"\n",
        "psw = \"Agusti$14\"\n",
        "\n",
        "url = \"https://capps.ciena.com/Login/90bed6c6c4464d23bf0fdceb1061153c/\"\n",
        "\n",
        "# selectores\n",
        "\n",
        "boton_inicio_sesion = \"#loginForm > div > div.row.justify-content-md-center > div:nth-child(2) > a\"\n",
        "selector_usuario = \"#UserName\"\n",
        "selector_contraseña = \"#Password\" \n",
        "boton_login =\"#loginForm > form > div:nth-child(6) > div > input\"\n",
        "\n",
        "#abrir navegador\n",
        "\n",
        "driver = webdriver.Chrome()\n"
      ],
      "execution_count": null,
      "outputs": []
    }
  ]
}