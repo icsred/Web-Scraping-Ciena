{
  "nbformat": 4,
  "nbformat_minor": 0,
  "metadata": {
    "colab": {
      "name": "WEBSCRAPING -  CIENA SELENIUM.ipynb",
      "provenance": [],
      "collapsed_sections": [],
      "authorship_tag": "ABX9TyNb61jLprJD9elxD4vjQIZ7",
      "include_colab_link": true
    },
    "kernelspec": {
      "name": "python3",
      "display_name": "Python 3"
    },
    "language_info": {
      "name": "python"
    }
  },
  "cells": [
    {
      "cell_type": "markdown",
      "metadata": {
        "id": "view-in-github",
        "colab_type": "text"
      },
      "source": [
        "<a href=\"https://colab.research.google.com/github/icsred/Web-Scraping-Ciena/blob/main/WEBSCRAPING_CIENA_SELENIUM.ipynb\" target=\"_parent\"><img src=\"https://colab.research.google.com/assets/colab-badge.svg\" alt=\"Open In Colab\"/></a>"
      ]
    },
    {
      "cell_type": "code",
      "metadata": {
        "id": "QO0OCrn1x8ce",
        "colab": {
          "base_uri": "https://localhost:8080/"
        },
        "outputId": "f000257f-f2de-4856-95d1-3c00ad9c441b"
      },
      "source": [
        "!pip install selenium\n",
        "import pandas\n",
        "import time\n",
        "from selenium import webdriver\n",
        "from selenium.webdriver.common.by import By\n",
        "from selenium.webdriver.support.ui import WebDriverWait\n",
        "from selenium.webdriver.support import expected_conditions as ec"
      ],
      "execution_count": null,
      "outputs": [
        {
          "output_type": "stream",
          "text": [
            "Requirement already satisfied: selenium in /usr/local/lib/python3.7/dist-packages (3.141.0)\n",
            "Requirement already satisfied: urllib3 in /usr/local/lib/python3.7/dist-packages (from selenium) (1.24.3)\n"
          ],
          "name": "stdout"
        }
      ]
    },
    {
      "cell_type": "code",
      "metadata": {
        "id": "b0_mJBczSXFt"
      },
      "source": [
        "\n",
        "\n",
        "user = \"marcelozapata@icsred.com\"\n",
        "psw = \"Agusti$14\"\n",
        "\n",
        "url = \"https://capps.ciena.com/Login/90bed6c6c4464d23bf0fdceb1061153c/\"\n",
        "\n",
        "# selectores\n",
        "\n",
        "boton_inicio_sesion = \"#loginForm > div > div.row.justify-content-md-center > div:nth-child(2) > a\"\n",
        "selector_usuario = \"#UserName\"\n",
        "selector_contraseña = \"#Password\" \n",
        "boton_login =\"#loginForm > form > div:nth-child(6) > div > input\"\n",
        "\n",
        "#abrir navegador\n",
        "\n",
        "driver = webdriver.Chrome()\n"
      ],
      "execution_count": null,
      "outputs": []
    }
  ]
}