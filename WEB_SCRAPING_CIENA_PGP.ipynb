{
  "nbformat": 4,
  "nbformat_minor": 0,
  "metadata": {
    "colab": {
      "name": " WEB-SCRAPING CIENA - PGP.ipynb",
      "provenance": [],
      "collapsed_sections": [],
      "authorship_tag": "ABX9TyNTDHq56/dG/puVfx4eT+by",
      "include_colab_link": true
    },
    "kernelspec": {
      "name": "python3",
      "display_name": "Python 3"
    },
    "language_info": {
      "name": "python"
    }
  },
  "cells": [
    {
      "cell_type": "markdown",
      "metadata": {
        "id": "view-in-github",
        "colab_type": "text"
      },
      "source": [
        "<a href=\"https://colab.research.google.com/github/icsred/Web-Scraping-Ciena/blob/main/WEB_SCRAPING_CIENA_PGP.ipynb\" target=\"_parent\"><img src=\"https://colab.research.google.com/assets/colab-badge.svg\" alt=\"Open In Colab\"/></a>"
      ]
    },
    {
      "cell_type": "code",
      "metadata": {
        "id": "UHdAj-xvkXYK",
        "colab": {
          "base_uri": "https://localhost:8080/"
        },
        "outputId": "1cbff7c5-8e75-4dd9-9827-6ae0d9caa5bd"
      },
      "source": [
        "!pip3 install requests_html bs4\n",
        "from bs4 import BeautifulSoup\n",
        "from requests_html import HTMLSession\n",
        "from urllib.parse import urljoin"
      ],
      "execution_count": null,
      "outputs": [
        {
          "output_type": "stream",
          "text": [
            "Requirement already satisfied: requests_html in /usr/local/lib/python3.7/dist-packages (0.10.0)\n",
            "Requirement already satisfied: bs4 in /usr/local/lib/python3.7/dist-packages (0.0.1)\n",
            "Requirement already satisfied: w3lib in /usr/local/lib/python3.7/dist-packages (from requests_html) (1.22.0)\n",
            "Requirement already satisfied: pyppeteer>=0.0.14 in /usr/local/lib/python3.7/dist-packages (from requests_html) (0.2.6)\n",
            "Requirement already satisfied: requests in /usr/local/lib/python3.7/dist-packages (from requests_html) (2.23.0)\n",
            "Requirement already satisfied: parse in /usr/local/lib/python3.7/dist-packages (from requests_html) (1.19.0)\n",
            "Requirement already satisfied: pyquery in /usr/local/lib/python3.7/dist-packages (from requests_html) (1.4.3)\n",
            "Requirement already satisfied: fake-useragent in /usr/local/lib/python3.7/dist-packages (from requests_html) (0.1.11)\n",
            "Requirement already satisfied: pyee<9.0.0,>=8.1.0 in /usr/local/lib/python3.7/dist-packages (from pyppeteer>=0.0.14->requests_html) (8.2.2)\n",
            "Requirement already satisfied: websockets<10.0,>=9.1 in /usr/local/lib/python3.7/dist-packages (from pyppeteer>=0.0.14->requests_html) (9.1)\n",
            "Requirement already satisfied: tqdm<5.0.0,>=4.42.1 in /usr/local/lib/python3.7/dist-packages (from pyppeteer>=0.0.14->requests_html) (4.62.0)\n",
            "Requirement already satisfied: appdirs<2.0.0,>=1.4.3 in /usr/local/lib/python3.7/dist-packages (from pyppeteer>=0.0.14->requests_html) (1.4.4)\n",
            "Requirement already satisfied: urllib3<2.0.0,>=1.25.8 in /usr/local/lib/python3.7/dist-packages (from pyppeteer>=0.0.14->requests_html) (1.25.11)\n",
            "Requirement already satisfied: importlib-metadata>=1.4 in /usr/local/lib/python3.7/dist-packages (from pyppeteer>=0.0.14->requests_html) (4.6.4)\n",
            "Requirement already satisfied: zipp>=0.5 in /usr/local/lib/python3.7/dist-packages (from importlib-metadata>=1.4->pyppeteer>=0.0.14->requests_html) (3.5.0)\n",
            "Requirement already satisfied: typing-extensions>=3.6.4 in /usr/local/lib/python3.7/dist-packages (from importlib-metadata>=1.4->pyppeteer>=0.0.14->requests_html) (3.7.4.3)\n",
            "Requirement already satisfied: beautifulsoup4 in /usr/local/lib/python3.7/dist-packages (from bs4) (4.6.3)\n",
            "Requirement already satisfied: cssselect>0.7.9 in /usr/local/lib/python3.7/dist-packages (from pyquery->requests_html) (1.1.0)\n",
            "Requirement already satisfied: lxml>=2.1 in /usr/local/lib/python3.7/dist-packages (from pyquery->requests_html) (4.2.6)\n",
            "Requirement already satisfied: certifi>=2017.4.17 in /usr/local/lib/python3.7/dist-packages (from requests->requests_html) (2021.5.30)\n",
            "Requirement already satisfied: idna<3,>=2.5 in /usr/local/lib/python3.7/dist-packages (from requests->requests_html) (2.10)\n",
            "Requirement already satisfied: chardet<4,>=3.0.2 in /usr/local/lib/python3.7/dist-packages (from requests->requests_html) (3.0.4)\n",
            "Requirement already satisfied: six>=1.4.1 in /usr/local/lib/python3.7/dist-packages (from w3lib->requests_html) (1.15.0)\n"
          ],
          "name": "stdout"
        }
      ]
    },
    {
      "cell_type": "code",
      "metadata": {
        "id": "b0_mJBczSXFt",
        "colab": {
          "base_uri": "https://localhost:8080/"
        },
        "outputId": "ade42e2b-137c-40f0-88f3-fab14db70002"
      },
      "source": [
        "\n",
        "# initialize an HTTP session\n",
        "session = HTMLSession()\n",
        "def get_all_forms(url):\n",
        "    \"\"\"Returns all form tags found on a web page's `url` \"\"\"\n",
        "    # GET request\n",
        "    res = session.get(url)\n",
        "    # for javascript driven website\n",
        "    # res.html.render()\n",
        "    soup = BeautifulSoup(res.html.html, \"html.parser\")\n",
        "    return soup.find_all(\"form\")\n",
        "def get_form_details(form):\n",
        "    \"\"\"Returns the HTML details of a form,\n",
        "    including action, method and list of form controls (inputs, etc)\"\"\"\n",
        "    details = {}\n",
        "    # get the form action (requested URL)\n",
        "    action = form.attrs.get(\"action\").lower()\n",
        "    # get the form method (POST, GET, DELETE, etc)\n",
        "    # if not specified, GET is the default in HTML\n",
        "    method = form.attrs.get(\"method\", \"get\").lower()\n",
        "    # get all form inputs\n",
        "    inputs = []\n",
        "    for input_tag in form.find_all(\"input\"):\n",
        "        # get type of input form control\n",
        "        input_type = input_tag.attrs.get(\"type\", \"text\")\n",
        "        # get name attribute\n",
        "        input_name = input_tag.attrs.get(\"name\")\n",
        "        # get the default value of that input tag\n",
        "        input_value =input_tag.attrs.get(\"value\", \"\")\n",
        "        # add everything to that list\n",
        "        inputs.append({\"type\": input_type, \"name\": input_name, \"value\": input_value})\n",
        "    # put everything to the resulting dictionary\n",
        "    details[\"action\"] = action\n",
        "    details[\"method\"] = method\n",
        "    details[\"inputs\"] = inputs\n",
        "    return details\n",
        "url = \"https://capps.ciena.com/Login/daf9c097e62143d098674a4133278b9d/Home/UserPrompt\"\n",
        "# get all form tags\n",
        "forms = get_all_forms(url)\n",
        "# iteratte over forms\n",
        "for i, form in enumerate(forms, start=1):\n",
        "    form_details = get_form_details(form)\n",
        "    print(\"=\"*50, f\"form #{i}\", \"=\"*50)\n",
        "    print(form_details)\n",
        "\n",
        "\n"
      ],
      "execution_count": null,
      "outputs": [
        {
          "output_type": "stream",
          "text": [
            "================================================== form #1 ==================================================\n",
            "{'action': '/login/daf9c097e62143d098674a4133278b9d/home/userprompt', 'method': 'post', 'inputs': [{'type': 'hidden', 'name': '__RequestVerificationToken', 'value': 'qFMmTHVn7XwLDJpSC1ML0NzKRswq3cwnZEJC0nA0RTNvzwizo9FDE-2SdPgt6maW-sor3zeXlXREWvF-tiFSWTPXAGJgzBsuGdIDjNfnWG41'}, {'type': 'text', 'name': 'UserName', 'value': ''}, {'type': 'password', 'name': 'Password', 'value': ''}, {'type': 'submit', 'name': None, 'value': 'Log In'}]}\n"
          ],
          "name": "stdout"
        }
      ]
    }
  ]
}